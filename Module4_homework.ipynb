{
 "cells": [
  {
   "cell_type": "code",
   "execution_count": 1,
   "id": "normal-table",
   "metadata": {},
   "outputs": [],
   "source": [
    "def overlap(a, b, min_length=3):\n",
    "    \"\"\" Return length of longest suffix of 'a' matching\n",
    "        a prefix of 'b' that is at least 'min_length'\n",
    "        characters long.  If no such overlap exists,\n",
    "        return 0. \"\"\"\n",
    "    start = 0  # start all the way at the left\n",
    "    while True:\n",
    "        start = a.find(b[:min_length], start)  # look for b's suffx in a\n",
    "        if start == -1:  # no more occurrences to right\n",
    "            return 0\n",
    "        # found occurrence; check for full suffix/prefix match\n",
    "        if b.startswith(a[start:]):\n",
    "            return len(a)-start\n",
    "        start += 1  # move just past previous match\n",
    "\n",
    "import itertools\n",
    "\n",
    "def scs(ss):\n",
    "    \"\"\" Returns shortest common superstring of given\n",
    "        strings, which must be the same length \"\"\"\n",
    "    shortest_sup = None\n",
    "    for ssperm in itertools.permutations(ss):\n",
    "        sup = ssperm[0]  # superstring starts as first string\n",
    "        for i in range(len(ss)-1):\n",
    "            # overlap adjacent strings A and B in the permutation\n",
    "            olen = overlap(ssperm[i], ssperm[i+1], min_length=1)\n",
    "            # add non-overlapping portion of B to superstring\n",
    "            sup += ssperm[i+1][olen:]\n",
    "        if shortest_sup is None or len(sup) < len(shortest_sup):\n",
    "            shortest_sup = sup  # found shorter superstring\n",
    "    return shortest_sup  # return shortest"
   ]
  },
  {
   "cell_type": "code",
   "execution_count": 2,
   "id": "fuzzy-tribe",
   "metadata": {},
   "outputs": [
    {
     "name": "stdout",
     "output_type": "stream",
     "text": [
      "11\n"
     ]
    }
   ],
   "source": [
    "ss = [\"CCT\", \"CTT\", \"TGC\", \"TGG\", \"GAT\", \"ATT\"]\n",
    "print(len(scs(ss)))"
   ]
  },
  {
   "cell_type": "code",
   "execution_count": 3,
   "id": "confused-process",
   "metadata": {},
   "outputs": [],
   "source": [
    "def scs_list(ss):\n",
    "    \"\"\" Returns shortest common superstring of given\n",
    "        strings, which must be the same length \"\"\"\n",
    "    shortest_sup = None\n",
    "    shortest_res = list()\n",
    "    for ssperm in itertools.permutations(ss):\n",
    "        sup = ssperm[0]  # superstring starts as first string\n",
    "        for i in range(len(ss)-1):\n",
    "            # overlap adjacent strings A and B in the permutation\n",
    "            olen = overlap(ssperm[i], ssperm[i+1], min_length=1)\n",
    "            # add non-overlapping portion of B to superstring\n",
    "            sup += ssperm[i+1][olen:]\n",
    "        if shortest_sup is None or len(sup) < len(shortest_sup):\n",
    "            shortest_sup = sup  # found shorter superstring\n",
    "            shortest_res = list()\n",
    "            shortest_res.append(sup)\n",
    "        elif len(sup) == len(shortest_sup):\n",
    "            shortest_res.append(sup)  # found shorter superstring\n",
    "    return shortest_res  # return shortest"
   ]
  },
  {
   "cell_type": "code",
   "execution_count": 4,
   "id": "excess-light",
   "metadata": {},
   "outputs": [
    {
     "data": {
      "text/plain": [
       "'ABCAB'"
      ]
     },
     "execution_count": 4,
     "metadata": {},
     "output_type": "execute_result"
    }
   ],
   "source": [
    "strings = ['ABC', 'BCA', 'CAB']\n",
    "scs(strings)"
   ]
  },
  {
   "cell_type": "code",
   "execution_count": 5,
   "id": "chubby-mining",
   "metadata": {},
   "outputs": [
    {
     "name": "stdout",
     "output_type": "stream",
     "text": [
      "['ABCAB', 'BCABC', 'CABCA']\n"
     ]
    }
   ],
   "source": [
    "print(scs_list(strings))"
   ]
  },
  {
   "cell_type": "code",
   "execution_count": 6,
   "id": "negative-theta",
   "metadata": {},
   "outputs": [
    {
     "data": {
      "text/plain": [
       "'TCGATGCAATAG'"
      ]
     },
     "execution_count": 6,
     "metadata": {},
     "output_type": "execute_result"
    }
   ],
   "source": [
    "strings = ['GAT', 'TAG', 'TCG', 'TGC', 'AAT', 'ATA']\n",
    "scs(strings)"
   ]
  },
  {
   "cell_type": "code",
   "execution_count": 7,
   "id": "turned-heart",
   "metadata": {},
   "outputs": [
    {
     "data": {
      "text/plain": [
       "['TCGATGCAATAG',\n",
       " 'TCGATAGAATGC',\n",
       " 'TCGAATAGATGC',\n",
       " 'TGCAATCGATAG',\n",
       " 'TGCAATAGATCG',\n",
       " 'AATCGATAGTGC',\n",
       " 'AATGCTCGATAG',\n",
       " 'AATAGATCGTGC',\n",
       " 'AATAGATGCTCG',\n",
       " 'AATAGTCGATGC']"
      ]
     },
     "execution_count": 7,
     "metadata": {},
     "output_type": "execute_result"
    }
   ],
   "source": [
    "scs_list(strings)"
   ]
  },
  {
   "cell_type": "code",
   "execution_count": 8,
   "id": "thousand-today",
   "metadata": {},
   "outputs": [
    {
     "data": {
      "text/plain": [
       "4"
      ]
     },
     "execution_count": 8,
     "metadata": {},
     "output_type": "execute_result"
    }
   ],
   "source": [
    "strings = [\"CCT\", \"CTT\", \"TGC\", \"TGG\", \"GAT\", \"ATT\"]\n",
    "len(scs_list(strings))"
   ]
  },
  {
   "cell_type": "code",
   "execution_count": 9,
   "id": "suspended-program",
   "metadata": {},
   "outputs": [],
   "source": [
    "def readFastq(filename):\n",
    "    sequences = []\n",
    "    qualities = []\n",
    "    with open(filename) as fh:\n",
    "        while True:\n",
    "            fh.readline()  # skip name line\n",
    "            seq = fh.readline().rstrip()  # read base sequence\n",
    "            fh.readline()  # skip placeholder line\n",
    "            qual = fh.readline().rstrip() # base quality line\n",
    "            if len(seq) == 0:\n",
    "                break\n",
    "            sequences.append(seq)\n",
    "            qualities.append(qual)\n",
    "    return sequences, qualities"
   ]
  },
  {
   "cell_type": "code",
   "execution_count": 10,
   "id": "continuous-realtor",
   "metadata": {},
   "outputs": [],
   "source": [
    "reads, _ = readFastq(\"ads1_week4_reads.fq\")"
   ]
  },
  {
   "cell_type": "code",
   "execution_count": 11,
   "id": "graduate-palestine",
   "metadata": {},
   "outputs": [
    {
     "data": {
      "text/plain": [
       "1881"
      ]
     },
     "execution_count": 11,
     "metadata": {},
     "output_type": "execute_result"
    }
   ],
   "source": [
    "len(reads)"
   ]
  },
  {
   "cell_type": "code",
   "execution_count": 33,
   "id": "armed-steps",
   "metadata": {},
   "outputs": [],
   "source": [
    "from collections import defaultdict\n",
    "\n",
    "def create_kmers_from_reads(reads, k):\n",
    "        kmer_read = defaultdict(set)\n",
    "        for read in reads:\n",
    "            read_length = len(read)\n",
    "            kmers = [read[i:i+k] for i in range(read_length - k + 1)]\n",
    "            for kmer in kmers:\n",
    "                kmer_read[kmer].add(read)\n",
    "        return kmer_read"
   ]
  },
  {
   "cell_type": "code",
   "execution_count": 23,
   "id": "mysterious-pontiac",
   "metadata": {},
   "outputs": [],
   "source": [
    "def pick_maximal_overlap(reads, k):\n",
    "    \"\"\" Return a pair of reads from the list with a\n",
    "        maximal suffix/prefix overlap >= k.  Returns\n",
    "        overlap length 0 if there are no such overlaps.\"\"\"\n",
    "\n",
    "    reada, readb = None, None\n",
    "    best_olen = 0\n",
    "    \n",
    "    #create dict with kmer key/and set of reads with that kmer value. \n",
    "    kmer_dict = create_kmers_from_reads(reads, k) \n",
    "        \n",
    "    for read in reads:\n",
    "        #create suffix for this read\n",
    "        read_suffix = read[-k: ] \n",
    "        \n",
    "        #extract set of all reads containing this kmer/suffix\n",
    "        read_set = kmer_dict[read_suffix]\n",
    "        \n",
    "        assert(len(read_set) > 0) # check that the set isnt empty\n",
    "        \n",
    "        read_set.discard(read) #remove the read so we dont compare it with itself\n",
    "\n",
    "        for compar_read in read_set:\n",
    "            olen = overlap(read, compar_read, min_length=k)\n",
    "            if olen > best_olen:\n",
    "                reada, readb = read, compar_read\n",
    "                best_olen = olen\n",
    "    return reada, readb, best_olen"
   ]
  },
  {
   "cell_type": "code",
   "execution_count": 24,
   "id": "engaging-denial",
   "metadata": {},
   "outputs": [],
   "source": [
    "def greedy_scs(reads, k):\n",
    "    \"\"\" Greedy shortest-common-superstring merge.\n",
    "        Repeat until no edges (overlaps of length >= k)\n",
    "        remain. \"\"\"\n",
    "    read_a, read_b, olen = pick_maximal_overlap(reads, k)\n",
    "    while olen > 0:\n",
    "        reads.remove(read_a)\n",
    "        reads.remove(read_b)\n",
    "        reads.append(read_a + read_b[olen:])\n",
    "        read_a, read_b, olen = pick_maximal_overlap(reads, k)\n",
    "    return ''.join(reads)"
   ]
  },
  {
   "cell_type": "code",
   "execution_count": 25,
   "id": "resistant-rebound",
   "metadata": {},
   "outputs": [
    {
     "data": {
      "text/plain": [
       "'CABCA'"
      ]
     },
     "execution_count": 25,
     "metadata": {},
     "output_type": "execute_result"
    }
   ],
   "source": [
    "greedy_scs(['ABC', 'BCA', 'CAB'], 2)"
   ]
  },
  {
   "cell_type": "code",
   "execution_count": 26,
   "id": "surprising-morrison",
   "metadata": {},
   "outputs": [
    {
     "data": {
      "text/plain": [
       "'CABCA'"
      ]
     },
     "execution_count": 26,
     "metadata": {},
     "output_type": "execute_result"
    }
   ],
   "source": [
    "greedy_scs(['ABC', 'BCA', 'CAB'], 1)"
   ]
  },
  {
   "cell_type": "code",
   "execution_count": 27,
   "id": "genuine-volunteer",
   "metadata": {},
   "outputs": [
    {
     "data": {
      "text/plain": [
       "'ABCABAABCABCAAA'"
      ]
     },
     "execution_count": 27,
     "metadata": {},
     "output_type": "execute_result"
    }
   ],
   "source": [
    "greedy_scs(['ABCABAA', 'BCABCAAA', 'CABCAAA'], 4)"
   ]
  },
  {
   "cell_type": "code",
   "execution_count": 28,
   "id": "delayed-drive",
   "metadata": {},
   "outputs": [],
   "source": [
    "small_reads = reads[:2]"
   ]
  },
  {
   "cell_type": "code",
   "execution_count": 29,
   "id": "exempt-serum",
   "metadata": {},
   "outputs": [
    {
     "name": "stdout",
     "output_type": "stream",
     "text": [
      "200\n"
     ]
    }
   ],
   "source": [
    "genome = greedy_scs(small_reads, k=10)\n",
    "print(len(genome))"
   ]
  },
  {
   "cell_type": "code",
   "execution_count": 31,
   "id": "thermal-remark",
   "metadata": {},
   "outputs": [],
   "source": [
    "genome = greedy_scs(reads, k=30)"
   ]
  },
  {
   "cell_type": "code",
   "execution_count": 32,
   "id": "quality-karaoke",
   "metadata": {},
   "outputs": [
    {
     "data": {
      "text/plain": [
       "15894"
      ]
     },
     "execution_count": 32,
     "metadata": {},
     "output_type": "execute_result"
    }
   ],
   "source": [
    "len(genome)"
   ]
  },
  {
   "cell_type": "code",
   "execution_count": 35,
   "id": "psychological-enlargement",
   "metadata": {},
   "outputs": [
    {
     "name": "stdout",
     "output_type": "stream",
     "text": [
      "Counter({'A': 4633, 'C': 3789, 'G': 3749, 'T': 3723})\n"
     ]
    }
   ],
   "source": [
    "from collections import Counter\n",
    "print(Counter(genome))"
   ]
  },
  {
   "cell_type": "code",
   "execution_count": null,
   "id": "spoken-flesh",
   "metadata": {},
   "outputs": [],
   "source": []
  }
 ],
 "metadata": {
  "kernelspec": {
   "display_name": "algodna",
   "language": "python",
   "name": "algodna"
  },
  "language_info": {
   "codemirror_mode": {
    "name": "ipython",
    "version": 3
   },
   "file_extension": ".py",
   "mimetype": "text/x-python",
   "name": "python",
   "nbconvert_exporter": "python",
   "pygments_lexer": "ipython3",
   "version": "3.9.1"
  }
 },
 "nbformat": 4,
 "nbformat_minor": 5
}
