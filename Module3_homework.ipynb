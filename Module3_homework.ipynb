{
 "cells": [
  {
   "cell_type": "code",
   "execution_count": 12,
   "id": "perceived-feature",
   "metadata": {},
   "outputs": [],
   "source": [
    "def editDistance(x, y):\n",
    "    # Create distance matrix\n",
    "    D = []\n",
    "    for i in range(len(x)+1):\n",
    "        D.append([0]*(len(y)+1))\n",
    "    # Initialize first row and column of matrix\n",
    "    for i in range(len(x)+1):\n",
    "        D[i][0] = i\n",
    "    for i in range(len(y)+1):\n",
    "        D[0][i] = 0\n",
    "    # Fill in the rest of the matrix\n",
    "    for i in range(1, len(x)+1):\n",
    "        for j in range(1, len(y)+1):\n",
    "            distHor = D[i][j-1] + 1\n",
    "            distVer = D[i-1][j] + 1\n",
    "            if x[i-1] == y[j-1]:\n",
    "                distDiag = D[i-1][j-1]\n",
    "            else:\n",
    "                distDiag = D[i-1][j-1] + 1\n",
    "            D[i][j] = min(distHor, distVer, distDiag)\n",
    "    # Edit distance is the value in the bottom right corner of the matrix\n",
    "    return min(D[-1])"
   ]
  },
  {
   "cell_type": "code",
   "execution_count": 13,
   "id": "familiar-logging",
   "metadata": {},
   "outputs": [
    {
     "name": "stdout",
     "output_type": "stream",
     "text": [
      "2\n"
     ]
    }
   ],
   "source": [
    "P=\"GCGTATGC\"\n",
    "T =\"TATTGGCTATACGGTT\"\n",
    "print(editDistance(P,T))"
   ]
  },
  {
   "cell_type": "code",
   "execution_count": 14,
   "id": "enabling-silly",
   "metadata": {},
   "outputs": [],
   "source": [
    "def readGenome(filename):\n",
    "    genome = ''\n",
    "    with open(filename, 'r') as f:\n",
    "        for line in f:\n",
    "            # ignore header line with genome information\n",
    "            if not line[0] == '>':\n",
    "                genome += line.rstrip()\n",
    "    return genome"
   ]
  },
  {
   "cell_type": "code",
   "execution_count": 15,
   "id": "about-prerequisite",
   "metadata": {},
   "outputs": [],
   "source": [
    "genome = readGenome('chr1.GRCh38.excerpt.fasta')"
   ]
  },
  {
   "cell_type": "code",
   "execution_count": 16,
   "id": "brown-sheriff",
   "metadata": {},
   "outputs": [
    {
     "name": "stdout",
     "output_type": "stream",
     "text": [
      "3\n"
     ]
    }
   ],
   "source": [
    "P =\"GCTGATCGATCGTACG\"\n",
    "print(editDistance(P,genome))"
   ]
  },
  {
   "cell_type": "code",
   "execution_count": 17,
   "id": "collective-criminal",
   "metadata": {},
   "outputs": [
    {
     "name": "stdout",
     "output_type": "stream",
     "text": [
      "2\n"
     ]
    }
   ],
   "source": [
    "P=\"GATTTACCAGATTGAG\"\n",
    "print(editDistance(P,genome))"
   ]
  },
  {
   "cell_type": "code",
   "execution_count": 116,
   "id": "considerable-preparation",
   "metadata": {},
   "outputs": [],
   "source": [
    "from collections import defaultdict\n",
    "\n",
    "def create_kmers_from_reads(reads, k):\n",
    "        kmer_read = defaultdict(set)\n",
    "        for read in reads:\n",
    "            read_length = len(read)\n",
    "            kmers = [read[i:i+k] for i in range(read_length - k + 1)]\n",
    "            for kmer in kmers:\n",
    "                kmer_read[kmer].add(read)\n",
    "        return kmer_read\n"
   ]
  },
  {
   "cell_type": "code",
   "execution_count": 117,
   "id": "persistent-railway",
   "metadata": {},
   "outputs": [
    {
     "data": {
      "text/plain": [
       "defaultdict(set, {'GAT': {'GATTA'}, 'ATT': {'GATTA'}, 'TTA': {'GATTA'}})"
      ]
     },
     "execution_count": 117,
     "metadata": {},
     "output_type": "execute_result"
    }
   ],
   "source": [
    "t = \"GATTA\"\n",
    "k = 3\n",
    "create_kmers_from_reads([t], k)"
   ]
  },
  {
   "cell_type": "code",
   "execution_count": 23,
   "id": "radio-passport",
   "metadata": {},
   "outputs": [
    {
     "name": "stdout",
     "output_type": "stream",
     "text": [
      "--2021-02-20 15:02:27--  https://d28rh4a8wq0iu5.cloudfront.net/ads1/data/ERR266411_1.for_asm.fastq\n",
      "Resolving d28rh4a8wq0iu5.cloudfront.net (d28rh4a8wq0iu5.cloudfront.net)... 143.204.148.139, 143.204.148.89, 143.204.148.164, ...\n",
      "Connecting to d28rh4a8wq0iu5.cloudfront.net (d28rh4a8wq0iu5.cloudfront.net)|143.204.148.139|:443... connected.\n",
      "HTTP request sent, awaiting response... 200 OK\n",
      "Length: 2562951 (2.4M) [application/octet-stream]\n",
      "Saving to: ‘ERR266411_1.for_asm.fastq’\n",
      "\n",
      "ERR266411_1.for_asm 100%[===================>]   2.44M  5.21MB/s    in 0.5s    \n",
      "\n",
      "2021-02-20 15:02:29 (5.21 MB/s) - ‘ERR266411_1.for_asm.fastq’ saved [2562951/2562951]\n",
      "\n"
     ]
    }
   ],
   "source": [
    "#!wget https://d28rh4a8wq0iu5.cloudfront.net/ads1/data/ERR266411_1.for_asm.fastq"
   ]
  },
  {
   "cell_type": "code",
   "execution_count": 24,
   "id": "portuguese-device",
   "metadata": {},
   "outputs": [],
   "source": [
    "def readFastq(filename):\n",
    "    sequences = []\n",
    "    qualities = []\n",
    "    with open(filename) as fh:\n",
    "        while True:\n",
    "            fh.readline()  # skip name line\n",
    "            seq = fh.readline().rstrip()  # read base sequence\n",
    "            fh.readline()  # skip placeholder line\n",
    "            qual = fh.readline().rstrip() # base quality line\n",
    "            if len(seq) == 0:\n",
    "                break\n",
    "            sequences.append(seq)\n",
    "            qualities.append(qual)\n",
    "    return sequences, qualities"
   ]
  },
  {
   "cell_type": "code",
   "execution_count": 26,
   "id": "built-machine",
   "metadata": {},
   "outputs": [],
   "source": [
    "sequences, _ = readFastq(\"ERR266411_1.for_asm.fastq\")"
   ]
  },
  {
   "cell_type": "code",
   "execution_count": 27,
   "id": "valuable-policy",
   "metadata": {},
   "outputs": [
    {
     "data": {
      "text/plain": [
       "10000"
      ]
     },
     "execution_count": 27,
     "metadata": {},
     "output_type": "execute_result"
    }
   ],
   "source": [
    "len(sequences)"
   ]
  },
  {
   "cell_type": "code",
   "execution_count": 29,
   "id": "employed-admission",
   "metadata": {},
   "outputs": [],
   "source": [
    "tiny_sequences = sequences[:10]"
   ]
  },
  {
   "cell_type": "code",
   "execution_count": 30,
   "id": "desirable-villa",
   "metadata": {},
   "outputs": [
    {
     "data": {
      "text/plain": [
       "['TAAACAAGCAGTAGTAATTCCTGCTTTATCAAGATAATTTTTCGACTCATCAGAAATATCCGAAAGTGTTAACTTCTGCGTCATGGAAGCGATAAAACTC',\n",
       " 'AACAAGCAGTAGTAATTCCTGCTTTATCAAGATAATTTTTCGACTCATCAGAAATATACGAAAGTGTTAACTTCTGCGTCATGGACACGAAAAAACTCCC',\n",
       " 'AACAAGCAGTAGTAATTCCTGCTTTATCAAGATAATTTTTCGACTCATCAGAAATATCCGAAAGTGTTAACTTCTGCGTCATGGAAGCGATAAAACTCTG',\n",
       " 'AGCCGACGTTTTGGCGGCGCAACCTGTGACGACAAATCTGCTCAAATTTATGCGCGCTTCGATAAAAATGATTGGCGTATCCAACCTGCAGAGTTTTATC',\n",
       " 'GACAAATCTGCTCAAATTTATGCGCGCTTCGATAAAAATGATTGGCGTATCCAACCTGCAGAGTTTTATCGCTTCCATGACGCAGAAGTTAACACTTTCG',\n",
       " 'CTGTAGCCGACGTTTTGGCGGCGCAACCTGTGACGACAAATCTGCTCAAATTTATGCGCGCTTCGATAAAAATGATTGGCGTATCCAACCTGCAGAGTTT',\n",
       " 'CTGTGACGACAAATCTGCTCAAATTTATGCGCGCTTCGATAAAAATGATTGGCGTATCCAACCTGCAGAGTTTTATCGCTTCCATGACGCAGAAGTTAAC',\n",
       " 'CAAATCTGCTCAAATTTATGCGCGCTTCGATAAAAATGATTGGCGTATCCAACCTGCAGAGTTTTATCGCTTCCATGACGCAGAAGTTAACACTTTCGGA',\n",
       " 'GTAAACAAGCAGTAGTAATTCCTGCTTTATCAAGATAATTTTTCGACTCATCAGCAATATCCGAAAGAGTTAACTTTTGCGTCATGGAAGCGATAAAACC',\n",
       " 'GTAAACAAGCAGTAGTAATTCCTGCTTTATCAAGATAATTTTTCGACTCATCAGAAATATCCGAAAGTGTTAACTTCTGCGTCATGGAAGCGATAAAACT']"
      ]
     },
     "execution_count": 30,
     "metadata": {},
     "output_type": "execute_result"
    }
   ],
   "source": [
    "tiny_sequences"
   ]
  },
  {
   "cell_type": "code",
   "execution_count": 60,
   "id": "static-shoot",
   "metadata": {},
   "outputs": [],
   "source": [
    "#d = create_kmers_from_reads(tiny_sequences, 30)"
   ]
  },
  {
   "cell_type": "code",
   "execution_count": 118,
   "id": "operational-suspect",
   "metadata": {},
   "outputs": [],
   "source": [
    "def overlap(a, b, min_length=3):\n",
    "    \"\"\" Return length of longest suffix of 'a' matching\n",
    "        a prefix of 'b' that is at least 'min_length'\n",
    "        characters long.  If no such overlap exists,\n",
    "        return 0. \"\"\"\n",
    "    start = 0  # start all the way at the left\n",
    "    while True:\n",
    "        start = a.find(b[:min_length], start)  # look for b's prefix in a\n",
    "        if start == -1:  # no more occurrences to right\n",
    "            return 0\n",
    "        # found occurrence; check for full suffix/prefix match\n",
    "        if b.startswith(a[start:]):\n",
    "            return len(a)-start\n",
    "        start += 1  # move just past previous match"
   ]
  },
  {
   "cell_type": "code",
   "execution_count": 119,
   "id": "english-street",
   "metadata": {},
   "outputs": [],
   "source": [
    "def overlap_all_pairs(reads, min_length = 30):\n",
    "\n",
    "    #create dict with kmer key/and set of reads with that kmer value. \n",
    "    kmer_dict = create_kmers_from_reads(reads, min_length) \n",
    "        \n",
    "    overlap_graph = defaultdict(set) #read is key, set of overlapping reads are value\n",
    "    \n",
    "    \n",
    "    for read in reads:\n",
    "        #create suffix for this read\n",
    "        read_suffix = read[-min_length: ] \n",
    "        \n",
    "        #extract set of all reads containing this kmer/suffix\n",
    "        read_set = kmer_dict[read_suffix]\n",
    "        \n",
    "        assert(len(read_set) > 0) # check that the set isnt empty\n",
    "        \n",
    "        read_set.remove(read) #remove the read so we dont compare it with itself\n",
    "        \n",
    "        for compar_read in read_set:\n",
    "            if overlap(read, compar_read, min_length):\n",
    "                overlap_graph[read].add(compar_read)\n",
    "    return overlap_graph"
   ]
  },
  {
   "cell_type": "code",
   "execution_count": 120,
   "id": "norman-baseline",
   "metadata": {},
   "outputs": [],
   "source": [
    "def count_elements(d):\n",
    "    count_edges = 0\n",
    "    count_nodes = 0\n",
    "    for read, read_set in d.items():\n",
    "        if read_set:\n",
    "            count_edges += len(read_set)\n",
    "            count_nodes += 1\n",
    "    return count_nodes,count_edges "
   ]
  },
  {
   "cell_type": "code",
   "execution_count": 121,
   "id": "affecting-pharmacy",
   "metadata": {},
   "outputs": [],
   "source": [
    "reads = ['ABCDEFG', 'EFGHIJ', 'HIJABC']\n",
    "d = overlap_all_pairs(reads, 3)"
   ]
  },
  {
   "cell_type": "code",
   "execution_count": 122,
   "id": "joined-boards",
   "metadata": {},
   "outputs": [
    {
     "name": "stdout",
     "output_type": "stream",
     "text": [
      "3 3\n"
     ]
    }
   ],
   "source": [
    "count_nodes, count_edges = count_elements(d)\n",
    "print(count_nodes, count_edges)"
   ]
  },
  {
   "cell_type": "code",
   "execution_count": 131,
   "id": "prepared-homework",
   "metadata": {},
   "outputs": [],
   "source": [
    "overlap_graph = overlap_all_pairs(tiny_sequences)"
   ]
  },
  {
   "cell_type": "code",
   "execution_count": 132,
   "id": "capable-rescue",
   "metadata": {},
   "outputs": [
    {
     "name": "stdout",
     "output_type": "stream",
     "text": [
      "6 13\n"
     ]
    }
   ],
   "source": [
    "count_nodes, count_edges = count_elements(overlap_graph)\n",
    "print(count_nodes, count_edges)"
   ]
  },
  {
   "cell_type": "code",
   "execution_count": 133,
   "id": "compressed-construction",
   "metadata": {},
   "outputs": [
    {
     "name": "stdout",
     "output_type": "stream",
     "text": [
      "7161 904746\n"
     ]
    }
   ],
   "source": [
    "overlap_graph = overlap_all_pairs(sequences)\n",
    "count_nodes, count_edges = count_elements(overlap_graph)\n",
    "print(count_nodes, count_edges)"
   ]
  },
  {
   "cell_type": "code",
   "execution_count": null,
   "id": "intensive-contamination",
   "metadata": {},
   "outputs": [],
   "source": []
  },
  {
   "cell_type": "code",
   "execution_count": null,
   "id": "hazardous-clinton",
   "metadata": {},
   "outputs": [],
   "source": []
  }
 ],
 "metadata": {
  "kernelspec": {
   "display_name": "algodna",
   "language": "python",
   "name": "algodna"
  },
  "language_info": {
   "codemirror_mode": {
    "name": "ipython",
    "version": 3
   },
   "file_extension": ".py",
   "mimetype": "text/x-python",
   "name": "python",
   "nbconvert_exporter": "python",
   "pygments_lexer": "ipython3",
   "version": "3.9.1"
  }
 },
 "nbformat": 4,
 "nbformat_minor": 5
}
