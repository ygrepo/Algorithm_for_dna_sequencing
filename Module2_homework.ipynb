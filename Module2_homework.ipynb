{
 "cells": [
  {
   "cell_type": "code",
   "execution_count": 1,
   "id": "champion-oliver",
   "metadata": {},
   "outputs": [],
   "source": [
    "def boyer_moore(p, p_bm, t):\n",
    "    \"\"\" Do Boyer-Moore matching. p=pattern, t=text,\n",
    "        p_bm=BoyerMoore object for p \"\"\"\n",
    "    i = 0\n",
    "    occurrences = []\n",
    "    while i < len(t) - len(p) + 1:\n",
    "        shift = 1\n",
    "        mismatched = False\n",
    "        for j in range(len(p)-1, -1, -1):\n",
    "            if p[j] != t[i+j]:\n",
    "                skip_bc = p_bm.bad_character_rule(j, t[i+j])\n",
    "                skip_gs = p_bm.good_suffix_rule(j)\n",
    "                shift = max(shift, skip_bc, skip_gs)\n",
    "                mismatched = True\n",
    "                break\n",
    "        if not mismatched:\n",
    "            occurrences.append(i)\n",
    "            skip_gs = p_bm.match_skip()\n",
    "            shift = max(shift, skip_gs)\n",
    "        i += shift\n",
    "    return occurrences\n"
   ]
  },
  {
   "cell_type": "code",
   "execution_count": 2,
   "id": "endangered-trash",
   "metadata": {},
   "outputs": [],
   "source": [
    "def boyer_moore_with_counts(p, p_bm, t):\n",
    "    \"\"\" Do Boyer-Moore matching. p=pattern, t=text,\n",
    "        p_bm=BoyerMoore object for p \"\"\"\n",
    "    i = 0\n",
    "    occurrences = []\n",
    "    num_alignments = 0\n",
    "    num_character_comparisons = 0    \n",
    "    while i < len(t) - len(p) + 1:\n",
    "        shift = 1\n",
    "        mismatched = False\n",
    "        for j in range(len(p)-1, -1, -1):\n",
    "            num_character_comparisons += 1\n",
    "            if p[j] != t[i+j]:\n",
    "                skip_bc = p_bm.bad_character_rule(j, t[i+j])\n",
    "                skip_gs = p_bm.good_suffix_rule(j)\n",
    "                shift = max(shift, skip_bc, skip_gs)\n",
    "                mismatched = True\n",
    "                break\n",
    "        if not mismatched:\n",
    "            occurrences.append(i)\n",
    "            skip_gs = p_bm.match_skip()\n",
    "            shift = max(shift, skip_gs)\n",
    "        i += shift\n",
    "        num_alignments += 1\n",
    "    return occurrences, num_alignments, num_character_comparisons"
   ]
  },
  {
   "cell_type": "code",
   "execution_count": 3,
   "id": "divine-fraction",
   "metadata": {},
   "outputs": [],
   "source": [
    "from bm_preproc import BoyerMoore"
   ]
  },
  {
   "cell_type": "code",
   "execution_count": 4,
   "id": "handled-brooklyn",
   "metadata": {},
   "outputs": [
    {
     "name": "stdout",
     "output_type": "stream",
     "text": [
      "[40] 12 15\n"
     ]
    }
   ],
   "source": [
    "p = 'word'\n",
    "t = 'there would have been a time for such a word'\n",
    "lowercase_alphabet = 'abcdefghijklmnopqrstuvwxyz '\n",
    "p_bm = BoyerMoore(p, lowercase_alphabet)\n",
    "occurrences, num_alignments, num_character_comparisons = boyer_moore_with_counts(p, p_bm, t)\n",
    "print(occurrences, num_alignments, num_character_comparisons)\n",
    "#([40], 12, 15)"
   ]
  },
  {
   "cell_type": "code",
   "execution_count": 5,
   "id": "hungarian-receiver",
   "metadata": {},
   "outputs": [
    {
     "name": "stdout",
     "output_type": "stream",
     "text": [
      "[0, 19] 5 18\n"
     ]
    }
   ],
   "source": [
    "p = 'needle'\n",
    "t = 'needle need noodle needle'\n",
    "p_bm = BoyerMoore(p, lowercase_alphabet)\n",
    "occurrences, num_alignments, num_character_comparisons = boyer_moore_with_counts(p, p_bm, t)\n",
    "print(occurrences, num_alignments, num_character_comparisons)\n",
    "#([0, 19], 5, 18)"
   ]
  },
  {
   "cell_type": "code",
   "execution_count": 6,
   "id": "billion-there",
   "metadata": {},
   "outputs": [],
   "source": [
    "def naive(p, t):\n",
    "    occurrences = []\n",
    "    for i in range(len(t) - len(p) + 1):  # loop over alignments\n",
    "        match = True\n",
    "        for j in range(len(p)):  # loop over characters\n",
    "            if t[i+j] != p[j]:  # compare characters\n",
    "                match = False\n",
    "                break\n",
    "        if match:\n",
    "            occurrences.append(i)  # all chars matched; record\n",
    "    return occurrences"
   ]
  },
  {
   "cell_type": "code",
   "execution_count": 7,
   "id": "decimal-departure",
   "metadata": {},
   "outputs": [],
   "source": [
    "def naive_with_counts(p, t):\n",
    "    occurrences = []\n",
    "    num_alignments = 0\n",
    "    num_character_comparisons = 0\n",
    "    for i in range(len(t) - len(p) + 1):  # loop over alignments\n",
    "        match = True\n",
    "        for j in range(len(p)):  # loop over characters\n",
    "            num_character_comparisons += 1\n",
    "            if t[i+j] != p[j]:  # compare characters\n",
    "                match = False\n",
    "                break\n",
    "        num_alignments += 1\n",
    "        if match:\n",
    "            occurrences.append(i)  # all chars matched; record\n",
    "    return occurrences, num_alignments, num_character_comparisons\n",
    "\n"
   ]
  },
  {
   "cell_type": "code",
   "execution_count": 8,
   "id": "arranged-security",
   "metadata": {},
   "outputs": [
    {
     "name": "stdout",
     "output_type": "stream",
     "text": [
      "[40] 41 46\n"
     ]
    }
   ],
   "source": [
    "p = 'word'\n",
    "t = 'there would have been a time for such a word'\n",
    "occurrences, num_alignments, num_character_comparisons = naive_with_counts(p, t)\n",
    "print(occurrences, num_alignments, num_character_comparisons)\n",
    "#([40], 41, 46)"
   ]
  },
  {
   "cell_type": "code",
   "execution_count": 9,
   "id": "outside-fabric",
   "metadata": {},
   "outputs": [
    {
     "name": "stdout",
     "output_type": "stream",
     "text": [
      "[0, 19] 20 35\n"
     ]
    }
   ],
   "source": [
    "p = 'needle'\n",
    "t = 'needle need noodle needle'\n",
    "occurrences, num_alignments, num_character_comparisons = naive_with_counts(p, t)\n",
    "print(occurrences, num_alignments, num_character_comparisons)\n",
    "#([0, 19], 20, 35)"
   ]
  },
  {
   "cell_type": "code",
   "execution_count": null,
   "id": "steady-electronics",
   "metadata": {},
   "outputs": [],
   "source": []
  },
  {
   "cell_type": "code",
   "execution_count": 10,
   "id": "banned-correction",
   "metadata": {},
   "outputs": [],
   "source": [
    "import bisect\n",
    "class Index(object):\n",
    "    def __init__(self, t, k):\n",
    "        ''' Create index from all substrings of size 'length' '''\n",
    "        self.k = k  # k-mer length (k)\n",
    "        self.index = []\n",
    "        for i in range(len(t) - k + 1):  # for each k-mer\n",
    "            self.index.append((t[i:i+k], i))  # add (k-mer, offset) pair\n",
    "        self.index.sort()  # alphabetize by k-mer\n",
    "    \n",
    "    def query(self, p):\n",
    "        ''' Return index hits for first k-mer of P '''\n",
    "        kmer = p[:self.k]  # query with first k-mer\n",
    "        i = bisect.bisect_left(self.index, (kmer, -1))  # binary search\n",
    "        hits = []\n",
    "        while i < len(self.index):  # collect matching index entries\n",
    "            if self.index[i][0] != kmer:\n",
    "                break\n",
    "            hits.append(self.index[i][1])\n",
    "            i += 1\n",
    "        return hits"
   ]
  },
  {
   "cell_type": "code",
   "execution_count": 11,
   "id": "roman-henry",
   "metadata": {},
   "outputs": [],
   "source": [
    "def queryIndex(p, t, index):\n",
    "    k = index.k\n",
    "    offsets = list()\n",
    "    for i in index.query(p):\n",
    "        if p[k:] == t[i+k: i + len(p)]:\n",
    "            offsets.append(i)\n",
    "    return offsets"
   ]
  },
  {
   "cell_type": "code",
   "execution_count": 12,
   "id": "infectious-attitude",
   "metadata": {},
   "outputs": [],
   "source": [
    "t = \"GCTACGATCTAGAATCTA\"\n",
    "p = \"TCTA\""
   ]
  },
  {
   "cell_type": "code",
   "execution_count": 13,
   "id": "abroad-zimbabwe",
   "metadata": {},
   "outputs": [
    {
     "name": "stdout",
     "output_type": "stream",
     "text": [
      "[7, 14]\n"
     ]
    }
   ],
   "source": [
    "index = Index(t, 2)\n",
    "print(queryIndex(p, t, index))"
   ]
  },
  {
   "cell_type": "code",
   "execution_count": 14,
   "id": "junior-track",
   "metadata": {},
   "outputs": [
    {
     "data": {
      "text/plain": [
       "'TCTA'"
      ]
     },
     "execution_count": 14,
     "metadata": {},
     "output_type": "execute_result"
    }
   ],
   "source": [
    "t[7:11]"
   ]
  },
  {
   "cell_type": "code",
   "execution_count": 15,
   "id": "exposed-information",
   "metadata": {},
   "outputs": [],
   "source": [
    "def naive_2mm(p, t, total_mismatch=2):\n",
    "    occurrences = []\n",
    "    for i in range(len(t) - len(p) + 1):  # loop over alignments\n",
    "        match = True\n",
    "        mismatch_count = 0\n",
    "        for j in range(len(p)):  # loop over characters\n",
    "            if t[i+j] != p[j]:  # compare characters\n",
    "                mismatch_count += 1\n",
    "                if mismatch_count > total_mismatch:\n",
    "                    match = False\n",
    "                    break\n",
    "        if match:\n",
    "            occurrences.append(i)  # all chars matched; record\n",
    "    return occurrences"
   ]
  },
  {
   "cell_type": "code",
   "execution_count": 16,
   "id": "sorted-gnome",
   "metadata": {},
   "outputs": [],
   "source": [
    "def readGenome(filename):\n",
    "    genome = ''\n",
    "    with open(filename, 'r') as f:\n",
    "        for line in f:\n",
    "            # ignore header line with genome information\n",
    "            if not line[0] == '>':\n",
    "                genome += line.rstrip()\n",
    "    return genome"
   ]
  },
  {
   "cell_type": "code",
   "execution_count": 17,
   "id": "functional-swift",
   "metadata": {},
   "outputs": [],
   "source": [
    "human_1 = readGenome(\"chr1.GRCh38.excerpt.fasta\")"
   ]
  },
  {
   "cell_type": "code",
   "execution_count": 18,
   "id": "documentary-password",
   "metadata": {},
   "outputs": [
    {
     "name": "stdout",
     "output_type": "stream",
     "text": [
      "[56922] 799954 984143\n"
     ]
    }
   ],
   "source": [
    "p = \"GGCGCGGTGGCTCACGCCTGTAATCCCAGCACTTTGGGAGGCCGAGG\"\n",
    "occurrences, num_alignments, num_character_comparisons = naive_with_counts(p, human_1)\n",
    "print(occurrences, num_alignments, num_character_comparisons)"
   ]
  },
  {
   "cell_type": "code",
   "execution_count": 21,
   "id": "continuous-image",
   "metadata": {},
   "outputs": [
    {
     "name": "stdout",
     "output_type": "stream",
     "text": [
      "[56922] 127974 165191\n"
     ]
    }
   ],
   "source": [
    "p = \"GGCGCGGTGGCTCACGCCTGTAATCCCAGCACTTTGGGAGGCCGAGG\"\n",
    "lowercase_alphabet = 'ACGT'\n",
    "p_bm = BoyerMoore(p, lowercase_alphabet)\n",
    "occurrences, num_alignments, num_character_comparisons = boyer_moore_with_counts(p, p_bm, human_1)\n",
    "print(occurrences, num_alignments, num_character_comparisons)"
   ]
  },
  {
   "cell_type": "code",
   "execution_count": 22,
   "id": "changed-surge",
   "metadata": {},
   "outputs": [],
   "source": [
    "def approximate_match_with_bm(p, t, n):\n",
    "    segment_length = int(round(len(p) / (n+1)))\n",
    "    all_matches = set()\n",
    "    num_hits = 0\n",
    "    for i in range(n+1):\n",
    "        start = i*segment_length\n",
    "        end = min((i+1)*segment_length, len(p))\n",
    "        p_bm = BoyerMoore(p[start:end], alphabet='ACGT')\n",
    "        matches = boyer_moore(p[start:end], p_bm, t)\n",
    "        num_hits += len(matches)\n",
    "        # Extend matching segments to see if whole p matches\n",
    "        for m in matches:\n",
    "            if m < start or m-start+len(p) > len(t):\n",
    "                continue\n",
    "            mismatches = 0\n",
    "            for j in range(0, start):\n",
    "                if not p[j] == t[m-start+j]:\n",
    "                    mismatches += 1\n",
    "                    if mismatches > n:\n",
    "                        break\n",
    "            for j in range(end, len(p)):\n",
    "                if not p[j] == t[m-start+j]:\n",
    "                    mismatches += 1\n",
    "                    if mismatches > n:\n",
    "                        break\n",
    "            if mismatches <= n:\n",
    "                all_matches.add(m - start)\n",
    "    return list(all_matches), num_hits"
   ]
  },
  {
   "cell_type": "code",
   "execution_count": 60,
   "id": "advised-hayes",
   "metadata": {},
   "outputs": [
    {
     "name": "stdout",
     "output_type": "stream",
     "text": [
      "19 [56922, 84641, 147558, 160162, 160729, 191452, 262042, 273669, 364263, 421221, 429299, 465647, 551134, 635931, 657496, 681737, 717706, 724927, 747359]\n"
     ]
    }
   ],
   "source": [
    "p = \"GGCGCGGTGGCTCACGCCTGTAAT\"\n",
    "all_matches_bm, num_hits_bm = approximate_match_with_bm(p, human_1, 2)\n",
    "all_matches_bm.sort()\n",
    "print(len(all_matches_bm), all_matches_bm)"
   ]
  },
  {
   "cell_type": "code",
   "execution_count": 61,
   "id": "printable-missile",
   "metadata": {},
   "outputs": [
    {
     "name": "stdout",
     "output_type": "stream",
     "text": [
      "[56922, 84641, 147558, 160162, 160729, 191452, 262042, 273669, 364263, 421221, 429299, 465647, 551134, 635931, 657496, 681737, 717706, 724927, 747359]\n"
     ]
    }
   ],
   "source": [
    "print(all_matches_bm)"
   ]
  },
  {
   "cell_type": "code",
   "execution_count": 62,
   "id": "complicated-wireless",
   "metadata": {},
   "outputs": [],
   "source": [
    "def approximate_match_with_index(p, t, index, n):\n",
    "    segment_length = int(round(len(p) / (n+1)))\n",
    "    all_matches = set()\n",
    "    num_hits = 0\n",
    "    for i in range(n+1):\n",
    "        start = i*segment_length\n",
    "        end = min((i+1)*segment_length, len(p))\n",
    "        matches = index.query(p[start:end])\n",
    "        num_hits += len(matches)\n",
    "        # Extend matching segments to see if whole p matches\n",
    "        for m in matches:\n",
    "            if m < start or m-start+len(p) > len(t):\n",
    "                continue\n",
    "            mismatches = 0\n",
    "            for j in range(0, start):\n",
    "                if not p[j] == t[m-start+j]:\n",
    "                    mismatches += 1\n",
    "                    if mismatches > n:\n",
    "                        break\n",
    "            for j in range(end, len(p)):\n",
    "                if not p[j] == t[m-start+j]:\n",
    "                    mismatches += 1\n",
    "                    if mismatches > n:\n",
    "                        break\n",
    "            if mismatches <= n:\n",
    "                all_matches.add(m - start)\n",
    "    return list(all_matches), num_hits"
   ]
  },
  {
   "cell_type": "code",
   "execution_count": 63,
   "id": "appointed-session",
   "metadata": {},
   "outputs": [],
   "source": [
    "p = \"GGCGCGGTGGCTCACGCCTGTAAT\"\n",
    "index = Index(human_1, 8)\n",
    "all_matches_in, num_hits_in = approximate_match_with_index(p, human_1, index, 2)\n",
    "all_matches_in.sort()"
   ]
  },
  {
   "cell_type": "code",
   "execution_count": 64,
   "id": "seeing-coaching",
   "metadata": {},
   "outputs": [
    {
     "name": "stdout",
     "output_type": "stream",
     "text": [
      "19 90\n"
     ]
    }
   ],
   "source": [
    "print(len(all_matches_in), num_hits_in)"
   ]
  },
  {
   "cell_type": "code",
   "execution_count": 65,
   "id": "southwest-choice",
   "metadata": {},
   "outputs": [
    {
     "name": "stdout",
     "output_type": "stream",
     "text": [
      "[56922, 84641, 147558, 160162, 160729, 191452, 262042, 273669, 364263, 421221, 429299, 465647, 551134, 635931, 657496, 681737, 717706, 724927, 747359]\n",
      "[56922, 84641, 147558, 160162, 160729, 191452, 262042, 273669, 364263, 421221, 429299, 465647, 551134, 635931, 657496, 681737, 717706, 724927, 747359]\n"
     ]
    }
   ],
   "source": [
    "print(all_matches_bm)\n",
    "print(all_matches_in)"
   ]
  },
  {
   "cell_type": "code",
   "execution_count": 66,
   "id": "prescription-complaint",
   "metadata": {},
   "outputs": [
    {
     "name": "stdout",
     "output_type": "stream",
     "text": [
      "[56922, 262042, 364263, 657496, 717706] 799977 984116\n"
     ]
    }
   ],
   "source": [
    "p = 'GGCGCGGTGGCTCACGCCTGTAAT'\n",
    "occurrences, num_alignments, num_character_comparisons = naive_with_counts(p, human_1)\n",
    "print(occurrences, num_alignments, num_character_comparisons)"
   ]
  },
  {
   "cell_type": "code",
   "execution_count": 67,
   "id": "buried-plasma",
   "metadata": {},
   "outputs": [
    {
     "name": "stdout",
     "output_type": "stream",
     "text": [
      "19 90\n"
     ]
    }
   ],
   "source": [
    "p = \"GGCGCGGTGGCTCACGCCTGTAAT\"\n",
    "index = Index(human_1, 8)\n",
    "all_matches_in, num_hits_in = approximate_match_with_index(p, human_1, index, 2)\n",
    "print(len(all_matches_in), num_hits_in)"
   ]
  },
  {
   "cell_type": "code",
   "execution_count": 68,
   "id": "owned-narrow",
   "metadata": {},
   "outputs": [
    {
     "name": "stdout",
     "output_type": "stream",
     "text": [
      "[56922, 262042, 364263, 657496, 717706] 126203 196873\n"
     ]
    }
   ],
   "source": [
    "p = \"GGCGCGGTGGCTCACGCCTGTAAT\"\n",
    "p_bm = BoyerMoore(p, alphabet='ACGT')\n",
    "occurrences, num_alignments, num_character_comparisons = boyer_moore_with_counts(p, p_bm, human_1)\n",
    "print(occurrences, num_alignments, num_character_comparisons)"
   ]
  },
  {
   "cell_type": "code",
   "execution_count": 70,
   "id": "connected-fiction",
   "metadata": {},
   "outputs": [],
   "source": [
    "class SubseqIndex(object):\n",
    "    \"\"\" Holds a subsequence index for a text T \"\"\"\n",
    "    \n",
    "    def __init__(self, t, k, ival):\n",
    "        \"\"\" Create index from all subsequences consisting of k characters\n",
    "            spaced ival positions apart.  E.g., SubseqIndex(\"ATAT\", 2, 2)\n",
    "            extracts (\"AA\", 0) and (\"TT\", 1). \"\"\"\n",
    "        self.k = k  # num characters per subsequence extracted\n",
    "        self.ival = ival  # space between them; 1=adjacent, 2=every other, etc\n",
    "        self.index = []\n",
    "        self.span = 1 + ival * (k - 1)\n",
    "        for i in range(len(t) - self.span + 1):  # for each subseq\n",
    "            self.index.append((t[i:i+self.span:ival], i))  # add (subseq, offset)\n",
    "        self.index.sort()  # alphabetize by subseq\n",
    "    \n",
    "    def query(self, p):\n",
    "        \"\"\" Return index hits for first subseq of p \"\"\"\n",
    "        subseq = p[:self.span:self.ival]  # query with first subseq\n",
    "        i = bisect.bisect_left(self.index, (subseq, -1))  # binary search\n",
    "        hits = []\n",
    "        while i < len(self.index):  # collect matching index entries\n",
    "            if self.index[i][0] != subseq:\n",
    "                break\n",
    "            hits.append(self.index[i][1])\n",
    "            i += 1\n",
    "        return hits\n"
   ]
  },
  {
   "cell_type": "code",
   "execution_count": 71,
   "id": "parallel-hacker",
   "metadata": {},
   "outputs": [
    {
     "name": "stdout",
     "output_type": "stream",
     "text": [
      "[('AAA', 0), ('TTT', 1)]\n"
     ]
    }
   ],
   "source": [
    "ind = SubseqIndex('ATATAT', 3, 2)\n",
    "print(ind.index)\n"
   ]
  },
  {
   "cell_type": "code",
   "execution_count": 72,
   "id": "varied-latvia",
   "metadata": {},
   "outputs": [
    {
     "name": "stdout",
     "output_type": "stream",
     "text": [
      "[]\n"
     ]
    }
   ],
   "source": [
    "p = 'TTATAT'\n",
    "print(ind.query(p[0:]))\n"
   ]
  },
  {
   "cell_type": "code",
   "execution_count": 74,
   "id": "frequent-thread",
   "metadata": {},
   "outputs": [
    {
     "name": "stdout",
     "output_type": "stream",
     "text": [
      "[1]\n"
     ]
    }
   ],
   "source": [
    "print(ind.query(p[1:]))"
   ]
  },
  {
   "cell_type": "code",
   "execution_count": 97,
   "id": "afraid-custom",
   "metadata": {},
   "outputs": [],
   "source": [
    "def query_subseq(p, t, index):\n",
    "    l1 = subseq_ind.query(p[0:])\n",
    "    l2 = subseq_ind.query(p[1:])\n",
    "    l3 = subseq_ind.query(p[2:])        \n",
    "    print(l1)\n",
    "    print(l2)\n",
    "    print(l3)\n",
    "    return l1, len(l1) + len(l2) + len(l3)"
   ]
  },
  {
   "cell_type": "code",
   "execution_count": 98,
   "id": "tribal-purpose",
   "metadata": {},
   "outputs": [
    {
     "name": "stdout",
     "output_type": "stream",
     "text": [
      "[0, 14]\n",
      "[1, 15]\n",
      "[2, 16]\n",
      "[0, 14]\n",
      "6\n"
     ]
    }
   ],
   "source": [
    "t = 'to-morrow and to-morrow and to-morrow creeps in this petty pace'\n",
    "p = 'to-morrow and to-morrow '\n",
    "subseq_ind = SubseqIndex(t, 8, 3)\n",
    "occurrences, num_index_hits = query_subseq(p, t, subseq_ind)\n",
    "print(occurrences)\n",
    "print(num_index_hits)\n",
    "#[0, 14] and 6"
   ]
  },
  {
   "cell_type": "code",
   "execution_count": 99,
   "id": "reasonable-harbor",
   "metadata": {},
   "outputs": [
    {
     "data": {
      "text/plain": [
       "'to-morrow and to-morrow '"
      ]
     },
     "execution_count": 99,
     "metadata": {},
     "output_type": "execute_result"
    }
   ],
   "source": [
    "t[0: len(p)]"
   ]
  },
  {
   "cell_type": "code",
   "execution_count": 100,
   "id": "manufactured-remains",
   "metadata": {},
   "outputs": [
    {
     "data": {
      "text/plain": [
       "'o-morrow and to-morrow a'"
      ]
     },
     "execution_count": 100,
     "metadata": {},
     "output_type": "execute_result"
    }
   ],
   "source": [
    "t[1: 1+len(p)]"
   ]
  },
  {
   "cell_type": "code",
   "execution_count": null,
   "id": "gothic-scratch",
   "metadata": {},
   "outputs": [],
   "source": [
    "t = 'to-morrow and to-morrow and to-morrow creeps in this petty pace'\n",
    "p = 'to-morrow and to-morrow '\n",
    "subseq_ind = SubseqIndex(t, 8, 3)\n",
    "occurrences, num_index_hits = query_subseq(p, t, subseq_in"
   ]
  },
  {
   "cell_type": "code",
   "execution_count": 88,
   "id": "baking-technology",
   "metadata": {},
   "outputs": [
    {
     "name": "stdout",
     "output_type": "stream",
     "text": [
      "[(' -rwntmr', 13), (' -rwrpit', 27), (' doooa -', 9), (' doooce ', 23), (' esnh t ', 37), ('-rwntmr ', 2), ('-rwntmr ', 16), ('-rwrpits', 30), ('a -rwntm', 10), ('a -rwrpi', 24), ('ce  iptp', 38), ('doooa -r', 12), ('doooce  ', 26), ('e  iptpe', 41), ('esnh t c', 40), ('mr doooa', 3), ('mr doooc', 17), ('mr esnh ', 31), ('ntmr doo', 11), ('ntmr esn', 25), ('oa -rwnt', 7), ('oa -rwrp', 21), ('oce  ipt', 35), ('ooa -rwn', 4), ('ooa -rwr', 18), ('ooce  ip', 32), ('oooa -rw', 1), ('oooa -rw', 15), ('oooce  i', 29), ('r doooa ', 6), ('r doooce', 20), ('r esnh t', 34), ('rpitseya', 39), ('rwntmr d', 5), ('rwntmr e', 19), ('rwrpitse', 33), ('tmr dooo', 0), ('tmr dooo', 14), ('tmr esnh', 28), ('wntmr do', 8), ('wntmr es', 22), ('wrpitsey', 36)]\n"
     ]
    }
   ],
   "source": [
    "subseq_ind = SubseqIndex(t, 8, 3)\n",
    "print(subseq_ind.index)"
   ]
  },
  {
   "cell_type": "code",
   "execution_count": 90,
   "id": "bearing-peninsula",
   "metadata": {},
   "outputs": [
    {
     "name": "stdout",
     "output_type": "stream",
     "text": [
      "[1, 15]\n"
     ]
    }
   ],
   "source": [
    "print(subseq_ind.query(p[1:]))"
   ]
  },
  {
   "cell_type": "code",
   "execution_count": 91,
   "id": "sixth-fourth",
   "metadata": {},
   "outputs": [
    {
     "data": {
      "text/plain": [
       "'o-morrow and to-morrow a'"
      ]
     },
     "execution_count": 91,
     "metadata": {},
     "output_type": "execute_result"
    }
   ],
   "source": [
    "t[1:1+len(p)]"
   ]
  },
  {
   "cell_type": "code",
   "execution_count": 92,
   "id": "greatest-partner",
   "metadata": {},
   "outputs": [
    {
     "data": {
      "text/plain": [
       "'o-morrow and to-morrow '"
      ]
     },
     "execution_count": 92,
     "metadata": {},
     "output_type": "execute_result"
    }
   ],
   "source": [
    "p[1:]"
   ]
  },
  {
   "cell_type": "code",
   "execution_count": 104,
   "id": "considered-memory",
   "metadata": {},
   "outputs": [
    {
     "name": "stdout",
     "output_type": "stream",
     "text": [
      "[132574]\n",
      "[132575]\n",
      "[132576]\n",
      "[132574]\n"
     ]
    }
   ],
   "source": [
    "t = open('1110.txt.utf-8').read()\n",
    "p = 'English measure backward'\n",
    "subseq_ind = SubseqIndex(t, 8, 3)\n",
    "occurrences, num_index_hits = query_subseq(p, t, subseq_ind)\n",
    "print(occurrences)\n",
    "#[135249]"
   ]
  },
  {
   "cell_type": "code",
   "execution_count": 103,
   "id": "realistic-resource",
   "metadata": {},
   "outputs": [
    {
     "name": "stdout",
     "output_type": "stream",
     "text": [
      "3\n"
     ]
    }
   ],
   "source": [
    "print(num_index_hits)\n"
   ]
  },
  {
   "cell_type": "code",
   "execution_count": 106,
   "id": "killing-attachment",
   "metadata": {},
   "outputs": [
    {
     "data": {
      "text/plain": [
       "'recover.\\n  BASTARD. Who '"
      ]
     },
     "execution_count": 106,
     "metadata": {},
     "output_type": "execute_result"
    }
   ],
   "source": [
    "t[135249: 135249 + len(p)]"
   ]
  },
  {
   "cell_type": "code",
   "execution_count": 107,
   "id": "cognitive-dating",
   "metadata": {},
   "outputs": [
    {
     "data": {
      "text/plain": [
       "'English measure backward'"
      ]
     },
     "execution_count": 107,
     "metadata": {},
     "output_type": "execute_result"
    }
   ],
   "source": [
    "t[132574: 132574 + len(p)]"
   ]
  },
  {
   "cell_type": "code",
   "execution_count": 108,
   "id": "criminal-unemployment",
   "metadata": {},
   "outputs": [
    {
     "name": "stdout",
     "output_type": "stream",
     "text": [
      "[56922, 67486, 83863, 84641, 84775, 124024, 147558, 191452, 199607, 262042, 262174, 273669, 322735, 364263, 421354, 454332, 465647, 471966, 472634, 489019, 558456, 579737, 596898, 635931, 651523, 657496, 658702, 681737, 707151, 712449, 717706, 719418, 719557, 746620, 747359]\n",
      "[22398, 32640, 56923, 84642, 100012, 108111, 137575, 147559, 151719, 160163, 160730, 262043, 273670, 364264, 366819, 421222, 429300, 465648, 479031, 551135, 551828, 635932, 657497, 681738, 717707, 724928, 745641, 783347, 794643]\n",
      "[23005, 56924, 141048, 160731, 191454, 262044, 349191, 364265, 429301, 657498, 704733, 717708, 724929, 747361, 766421]\n",
      "79\n"
     ]
    }
   ],
   "source": [
    "t = human_1\n",
    "p = 'GGCGCGGTGGCTCACGCCTGTAAT'\n",
    "subseq_ind = SubseqIndex(t, 8, 3)\n",
    "occurrences, num_index_hits = query_subseq(p, t, subseq_ind)\n",
    "print(num_index_hits)\n"
   ]
  },
  {
   "cell_type": "code",
   "execution_count": null,
   "id": "fatal-destiny",
   "metadata": {},
   "outputs": [],
   "source": []
  }
 ],
 "metadata": {
  "kernelspec": {
   "display_name": "algodna",
   "language": "python",
   "name": "algodna"
  },
  "language_info": {
   "codemirror_mode": {
    "name": "ipython",
    "version": 3
   },
   "file_extension": ".py",
   "mimetype": "text/x-python",
   "name": "python",
   "nbconvert_exporter": "python",
   "pygments_lexer": "ipython3",
   "version": "3.9.1"
  }
 },
 "nbformat": 4,
 "nbformat_minor": 5
}
